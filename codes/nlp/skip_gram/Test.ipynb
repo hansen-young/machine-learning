{
 "cells": [
  {
   "cell_type": "code",
   "execution_count": 35,
   "metadata": {},
   "outputs": [],
   "source": [
    "import numpy as np\n",
    "from scipy.spatial.distance import cosine\n",
    "\n",
    "\n",
    "class SkipGram:\n",
    "    def __init__(self, dictionary, u, v):\n",
    "        self.dictionary = dictionary\n",
    "        self.u = u\n",
    "        self.v = v\n",
    "        self.inverse_dictionary = {v: k for k, v in dictionary.items()}\n",
    "\n",
    "    @classmethod\n",
    "    def load(cls, dir):\n",
    "        with open(dir + \"/dictionary.txt\") as fp:\n",
    "            dictionary = {}\n",
    "\n",
    "            for line in fp:\n",
    "                key, value = line.strip().split()\n",
    "                dictionary[key] = int(value)\n",
    "\n",
    "        with open(dir + \"/u.txt\") as fp:\n",
    "            u = []\n",
    "\n",
    "            for line in fp:\n",
    "                u.append(list(map(float, line.strip().split())))\n",
    "\n",
    "            u = np.array(u)\n",
    "\n",
    "        with open(dir + \"/v.txt\") as fp:\n",
    "            v = []\n",
    "\n",
    "            for line in fp:\n",
    "                v.append(list(map(float, line.strip().split())))\n",
    "\n",
    "            v = np.array(v)\n",
    "\n",
    "        return cls(dictionary, u, v)\n",
    "    \n",
    "    def __getitem__(self, word):\n",
    "        if word not in self.dictionary:\n",
    "            raise ValueError(f\"Word {word} not in dictionary\")\n",
    "\n",
    "        return self.v[self.dictionary[word]]\n",
    "    \n",
    "    def find_related_words(self, word):\n",
    "        word_index = self.dictionary[word]\n",
    "        similarities = np.dot(self.u, self.v[word_index])\n",
    "        sorted_indices = np.argsort(similarities)[::-1]\n",
    "        return [(self.inverse_dictionary[i], similarities[i]) for i in sorted_indices if i != word_index]"
   ]
  },
  {
   "cell_type": "code",
   "execution_count": 36,
   "metadata": {},
   "outputs": [],
   "source": [
    "model = SkipGram.load(\"model\")"
   ]
  },
  {
   "cell_type": "code",
   "execution_count": 37,
   "metadata": {},
   "outputs": [
    {
     "name": "stdout",
     "output_type": "stream",
     "text": [
      "0.7238526940419728\n",
      "0.9924486935554684\n"
     ]
    }
   ],
   "source": [
    "print( cosine(model[\"quick\"], model[\"fox\"]) )\n",
    "print( cosine(model[\"quick\"], model[\"dog\"]) )"
   ]
  },
  {
   "cell_type": "code",
   "execution_count": 38,
   "metadata": {},
   "outputs": [
    {
     "name": "stdout",
     "output_type": "stream",
     "text": [
      "0.34288478902809705\n",
      "1.3475802533550254\n"
     ]
    }
   ],
   "source": [
    "print( cosine(model[\"sleeping\"], model[\"floor\"]) )\n",
    "print( cosine(model[\"sleeping\"], model[\"jumps\"]) )"
   ]
  },
  {
   "cell_type": "code",
   "execution_count": 39,
   "metadata": {},
   "outputs": [
    {
     "data": {
      "text/plain": [
       "[('the', 12.247625667768599),\n",
       " ('lazy', 11.831040302156199),\n",
       " ('is', 11.047314786561099),\n",
       " ('sleeping', 10.630493579004801),\n",
       " ('on', 10.1893088855406),\n",
       " ('floor', 9.358005146392),\n",
       " ('over', 5.9063701767443995),\n",
       " ('jumps', 5.731913711576159),\n",
       " ('brown', 5.1802646088586),\n",
       " ('fox', 4.701875522564601),\n",
       " ('quick', 3.9465768108359804)]"
      ]
     },
     "execution_count": 39,
     "metadata": {},
     "output_type": "execute_result"
    }
   ],
   "source": [
    "model.find_related_words(\"dog\")"
   ]
  },
  {
   "cell_type": "code",
   "execution_count": 40,
   "metadata": {},
   "outputs": [
    {
     "data": {
      "text/plain": [
       "[('jumps', -0.4788774300060623),\n",
       " ('over', -0.6746951559898003),\n",
       " ('quick', -0.7448703275659101),\n",
       " ('brown', -1.3987276450360007),\n",
       " ('sleeping', -3.3576652785411603),\n",
       " ('on', -3.464300799432),\n",
       " ('floor', -3.60176855121024),\n",
       " ('the', -3.8751410524206005),\n",
       " ('is', -4.7541096709045005),\n",
       " ('lazy', -5.08718442204498),\n",
       " ('dog', -5.41276050947304)]"
      ]
     },
     "execution_count": 40,
     "metadata": {},
     "output_type": "execute_result"
    }
   ],
   "source": [
    "model.find_related_words(\"fox\")"
   ]
  },
  {
   "cell_type": "code",
   "execution_count": null,
   "metadata": {},
   "outputs": [],
   "source": []
  }
 ],
 "metadata": {
  "kernelspec": {
   "display_name": "p310",
   "language": "python",
   "name": "python3"
  },
  "language_info": {
   "codemirror_mode": {
    "name": "ipython",
    "version": 3
   },
   "file_extension": ".py",
   "mimetype": "text/x-python",
   "name": "python",
   "nbconvert_exporter": "python",
   "pygments_lexer": "ipython3",
   "version": "3.10.14"
  }
 },
 "nbformat": 4,
 "nbformat_minor": 2
}
