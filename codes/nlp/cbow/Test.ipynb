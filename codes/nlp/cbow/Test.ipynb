{
 "cells": [
  {
   "cell_type": "code",
   "execution_count": 1,
   "metadata": {},
   "outputs": [],
   "source": [
    "import numpy as np\n",
    "\n",
    "\n",
    "class CBOW:\n",
    "    def __init__(self, dictionary, u, v):\n",
    "        self.dictionary = dictionary\n",
    "        self.u = u\n",
    "        self.v = v\n",
    "        self.inverse_dictionary = {v: k for k, v in dictionary.items()}\n",
    "\n",
    "    @classmethod\n",
    "    def load(cls, dir):\n",
    "        with open(dir + \"/dictionary.txt\") as fp:\n",
    "            dictionary = {}\n",
    "\n",
    "            for line in fp:\n",
    "                key, value = line.strip().split()\n",
    "                dictionary[key] = int(value)\n",
    "\n",
    "        with open(dir + \"/u.txt\") as fp:\n",
    "            u = []\n",
    "\n",
    "            for line in fp:\n",
    "                u.append(list(map(float, line.strip().split())))\n",
    "\n",
    "            u = np.array(u)\n",
    "\n",
    "        with open(dir + \"/v.txt\") as fp:\n",
    "            v = []\n",
    "\n",
    "            for line in fp:\n",
    "                v.append(list(map(float, line.strip().split())))\n",
    "\n",
    "            v = np.array(v)\n",
    "\n",
    "        return cls(dictionary, u, v)\n",
    "    \n",
    "    def __getitem__(self, word):\n",
    "        if word not in self.dictionary:\n",
    "            raise ValueError(f\"Word {word} not in dictionary\")\n",
    "\n",
    "        return self.u[self.dictionary[word]]\n",
    "    \n",
    "    def find_related_words(self, word):\n",
    "        word_index = self.dictionary[word]\n",
    "        similarities = np.dot(self.u, self.v[word_index])\n",
    "        sorted_indices = np.argsort(similarities)[::-1]\n",
    "        return [(self.inverse_dictionary[i], similarities[i]) for i in sorted_indices if i != word_index]"
   ]
  },
  {
   "cell_type": "code",
   "execution_count": 2,
   "metadata": {},
   "outputs": [],
   "source": [
    "model = CBOW.load(\"model\")"
   ]
  },
  {
   "cell_type": "code",
   "execution_count": 3,
   "metadata": {},
   "outputs": [
    {
     "data": {
      "text/plain": [
       "[('the', 6.587040626582977),\n",
       " ('sleeping', 5.4066067605244),\n",
       " ('is', 5.2817044538012645),\n",
       " ('jumps', 5.187170890991),\n",
       " ('lazy', 4.9894404722677),\n",
       " ('fox', 4.7506221402266),\n",
       " ('floor', 4.748664496618041),\n",
       " ('on', 4.3032733195318),\n",
       " ('brown', 4.1029545888644),\n",
       " ('over', 3.9118347626515),\n",
       " ('quick', 3.4866698134417993)]"
      ]
     },
     "execution_count": 3,
     "metadata": {},
     "output_type": "execute_result"
    }
   ],
   "source": [
    "model.find_related_words(\"dog\")"
   ]
  },
  {
   "cell_type": "code",
   "execution_count": 4,
   "metadata": {},
   "outputs": [
    {
     "data": {
      "text/plain": [
       "[('jumps', 5.368265724052849),\n",
       " ('quick', 5.295954805663001),\n",
       " ('dog', 4.882789764324801),\n",
       " ('over', 4.825041070876351),\n",
       " ('is', 4.366507799574699),\n",
       " ('brown', 4.1849944846755),\n",
       " ('sleeping', 4.0053416438623),\n",
       " ('on', 3.9605691600534496),\n",
       " ('the', 3.7995133680233497),\n",
       " ('floor', 2.96066613761285),\n",
       " ('lazy', 2.9203850405188003)]"
      ]
     },
     "execution_count": 4,
     "metadata": {},
     "output_type": "execute_result"
    }
   ],
   "source": [
    "model.find_related_words(\"fox\")"
   ]
  },
  {
   "cell_type": "code",
   "execution_count": null,
   "metadata": {},
   "outputs": [],
   "source": []
  }
 ],
 "metadata": {
  "kernelspec": {
   "display_name": "p310",
   "language": "python",
   "name": "python3"
  },
  "language_info": {
   "codemirror_mode": {
    "name": "ipython",
    "version": 3
   },
   "file_extension": ".py",
   "mimetype": "text/x-python",
   "name": "python",
   "nbconvert_exporter": "python",
   "pygments_lexer": "ipython3",
   "version": "3.10.14"
  }
 },
 "nbformat": 4,
 "nbformat_minor": 2
}
